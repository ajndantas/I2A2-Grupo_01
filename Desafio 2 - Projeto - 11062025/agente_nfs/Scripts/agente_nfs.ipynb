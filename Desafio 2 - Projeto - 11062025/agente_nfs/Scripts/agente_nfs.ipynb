{
 "cells": [
  {
   "cell_type": "code",
   "execution_count": 1,
   "id": "6a3458f4",
   "metadata": {
    "colab": {
     "base_uri": "https://localhost:8080/"
    },
    "executionInfo": {
     "elapsed": 27212,
     "status": "ok",
     "timestamp": 1750214986132,
     "user": {
      "displayName": "Antonio Dantas",
      "userId": "09143204756506017123"
     },
     "user_tz": 180
    },
    "id": "6a3458f4",
    "outputId": "4c17ffe7-1c6b-4c45-ac52-a3413f2d141c"
   },
   "outputs": [
    {
     "name": "stdout",
     "output_type": "stream",
     "text": [
      "Note: you may need to restart the kernel to use updated packages.\n"
     ]
    }
   ],
   "source": [
    "%pip install -qqqr requirements.txt"
   ]
  },
  {
   "cell_type": "markdown",
   "id": "49b23614",
   "metadata": {
    "id": "49b23614"
   },
   "source": [
    "#### IMPORTS"
   ]
  },
  {
   "cell_type": "code",
   "execution_count": 2,
   "id": "d3f5916e",
   "metadata": {
    "id": "d3f5916e"
   },
   "outputs": [
    {
     "name": "stderr",
     "output_type": "stream",
     "text": [
      "g:\\Meu Drive\\Cursos e Treinamentos\\Cientista de Dados\\Treinamento Python\\I2A2\\Desafios\\Desafio 2 - Projeto - 11062025\\agente_nfs\\Lib\\site-packages\\tqdm\\auto.py:21: TqdmWarning: IProgress not found. Please update jupyter and ipywidgets. See https://ipywidgets.readthedocs.io/en/stable/user_install.html\n",
      "  from .autonotebook import tqdm as notebook_tqdm\n"
     ]
    }
   ],
   "source": [
    "from os import getenv\n",
    "from os.path import exists\n",
    "from pandas import read_csv, read_sql, DataFrame\n",
    "import sqlalchemy as sqlalc\n",
    "from dotenv import load_dotenv\n",
    "from langchain_core.prompts import PromptTemplate\n",
    "from langchain_core.output_parsers import JsonOutputParser\n",
    "from pydantic import BaseModel, Field\n",
    "from langchain_google_genai import ChatGoogleGenerativeAI\n",
    "from magic import from_file\n",
    "import motor_ocr_otimizado as ocr\n",
    "import streamlit as st\n",
    "\n",
    "class SemResposta(Exception):\n",
    "    pass"
   ]
  },
  {
   "cell_type": "markdown",
   "id": "67aa6074",
   "metadata": {
    "id": "67aa6074"
   },
   "source": [
    "#### <b>AGENTE 1: Aquisição de Documentos</b>\n",
    "<b>Responsabilidade:</b> Obter e pré-processar documentos fiscais<br/><br/>\n",
    "<b>Funcionalidades:</b>\n",
    "<ul><li>Interface para upload manual de arquivos (PDF, imagens)</li></ul>\n",
    "<ul><li>Integração com APIs de órgãos governamentais (SEFAZ)</li></ul>\n",
    "<ul><li>Validação inicial de formato e integridade dos documentos</li></ul>\n",
    "<ul><li>Organização e catalogação dos arquivos recebidos</li></ul>"
   ]
  },
  {
   "cell_type": "code",
   "execution_count": null,
   "id": "6b16247c",
   "metadata": {
    "id": "6b16247c"
   },
   "outputs": [],
   "source": [
    "def agente1(): # FRONTEND\n",
    "\n",
    "    print(\"Executando o agente 1...\")\n",
    "    \n",
    "    st.set_page_config(page_title=\"Agente NFe\", layout=\"centered\")\n",
    "    st.title(\"🤖 Agente Inteligente para Notas Fiscais\")\n",
    "\n",
    "    uploaded_file = st.file_uploader(\"📂 Envie um arquivo CSV, PDF ou PNG da NFe\", type=[\"csv\",\"pdf\",\"png\"])\n",
    "    \n",
    "    pergunta = st.text_input(\"📝 Digite sua pergunta sobre os dados:\")\n",
    "    \n",
    "    if st.button(\"🔍 Consultar\"):\n",
    "        if not uploaded_file:\n",
    "            st.error(\"Você precisa fazer o upload de um arquivo CSV, PDF ou de uma imagem PNG.\")\n",
    "            \n",
    "        elif not pergunta.strip():\n",
    "            st.error(\"Digite uma pergunta válida.\")\n",
    "            \n",
    "        else:\n",
    "            with st.spinner(\"Analisando os dados com IA...\"):\n",
    "                try:\n",
    "                    resultado_df = agente3(pergunta, uploaded_file) # INTERAÇÃO COM O USUÁRIO\n",
    "\n",
    "                    if (isinstance(resultado_df,str) and resultado_df == \"SemResposta\") or (isinstance(resultado_df, DataFrame) and resultado_df.empty):\n",
    "                        st.warning(\"Consulta realizada, mas nenhum dado foi encontrado.\")                  \n",
    "                    \n",
    "                    elif isinstance(resultado_df, DataFrame) and not resultado_df.empty:\n",
    "                        st.success(\"✅ Resultado encontrado:\")\n",
    "                        st.dataframe(resultado_df)                                        \n",
    "                        \n",
    "                except Exception as e:\n",
    "                    st.error(f\"Erro ao processar: {e}\")"
   ]
  },
  {
   "cell_type": "markdown",
   "id": "5a37657e",
   "metadata": {
    "id": "5a37657e"
   },
   "source": [
    "#### <b>AGENTE 2: Extração e Aprendizado</b>\n",
    "<b>Responsabilidade:</b> Processar documentos e extrair dados relevantes<br/><br/>\n",
    "<b>Funcionalidades:</b>\n",
    "<ul><li>OCR avançado para digitalização de documentos</li></ul>\n",
    "<ul><li>NLP para identificação e extração de campos específicos</li></ul>\n",
    "<ul><li>IA para adaptação a novos layouts</li></ul>\n",
    "<ul><li>Validação cruzada de dados extraídos</li></ul>"
   ]
  },
  {
   "cell_type": "code",
   "execution_count": null,
   "id": "459bb873",
   "metadata": {
    "id": "459bb873"
   },
   "outputs": [],
   "source": [
    "def agente2(pergunta,llm,engine,arquivo):\n",
    "\n",
    "    print('\\nExecutando agente 2...')\n",
    "    \n",
    "    # CATALOGANDO OS ARQUIVOS NO BD\n",
    "    inspector = sqlalc.inspect(engine) # INSPECTOR PARA LISTAR AS TABELAS DO BANCO DE DADOS\n",
    "\n",
    "    tipo = from_file(arquivo, mime=True)\n",
    "        \n",
    "    \"\"\"\n",
    "        CSV -> text/plain\n",
    "        PDF -> application/pdf\n",
    "        PNG -> image/png\n",
    "    \"\"\"\n",
    "    print(f\"\\nArquivo: {arquivo}, Tipo MIME detectado: {tipo}\")\n",
    "    \n",
    "    # ESTOU AQUI\n",
    "    if tipo != 'text/plain':\n",
    "        imagem_proc = ocr.preprocessar_imagem(ocr.carregar_imagem(arquivo))\n",
    "        texto = ocr.extrair_texto(imagem_proc)\n",
    "        print(\"Texto extraído:\\n\")\n",
    "        print(texto)       \n",
    "        \n",
    "    else:\n",
    "        # SERÁ CRIADO UM DATAFRAME PARA CADA ARQUIVO\n",
    "        df = read_csv(arquivo)\n",
    "\n",
    "        # INSERINDO COLUNA COM O NOME DO ARQUIVO NO DATAFRAME\n",
    "        df['ARQUIVO'] = arquivo\n",
    "    \n",
    "    \"\"\"\n",
    "        Utilizando a LLM para identificar se os campos e registros da base de documentos, são capazes de responder a pergunta\n",
    "        do usuário.\n",
    "\n",
    "        Se sim, os arquivos são persistidos no banco de dados, caso contrário, o arquivo é descartado.\n",
    "    \"\"\"\n",
    "    # FORMATANDO A SAÍDA DA LLM COM JsonOutputParser\n",
    "    class Resposta(BaseModel):\n",
    "        resposta: str = Field(description=\"Responda Sim ou Não\")\n",
    "\n",
    "    parseador = JsonOutputParser(pydantic_object=Resposta)\n",
    "\n",
    "    # CRIANDO O PROMPT PARA A LLM COM A SAIDA FORMATADA\n",
    "    template = \"\"\"É possível responder a pergunta {pergunta} do usuário baseado no dataframe {df} ? {resposta}\"\"\"\n",
    "\n",
    "    prompt_template = PromptTemplate(\n",
    "                                        template=template,\n",
    "                                        input_variables=[\"pergunta\",\"df\"],\n",
    "                                        partial_variables={\"resposta\" : parseador.get_format_instructions()}\n",
    "                                    )\n",
    "\n",
    "    # CRIANDO A CADEIA DE EXECUÇÃO PARA A LLM\n",
    "    chain = prompt_template | llm | parseador\n",
    "    \n",
    "    # INVOCANDO A LLM\n",
    "    resposta = chain.invoke(input={\"pergunta\":pergunta, \"df\": df})['resposta']\n",
    "        \n",
    "    if resposta == \"Sim\":\n",
    "        \n",
    "        # PERSISTINDO OS DADOS NO BANCO DE DADOS\n",
    "        print('Sim para o arquivo: ',arquivo)\n",
    "\n",
    "        # PRECISA VERIFICAR SE A TABELA COM O NOME DO ARQUIVO JÁ EXISTE NO BANCO DE DADOS\n",
    "        if arquivo in inspector.get_table_names():\n",
    "            dftable = read_sql(arquivo, con=engine)\n",
    "\n",
    "            # CUIDANDO DE DUPLICIDADE\n",
    "            df = df[~df['CHAVE DE ACESSO'].isin(dftable['CHAVE DE ACESSO'])]\n",
    "\n",
    "            # INSERINDO NO BANCO DE DADOS\n",
    "            df.to_sql(name=arquivo, con=engine, if_exists='append', index=False)\n",
    "        \n",
    "        else:            \n",
    "            df.to_sql(name=arquivo, con=engine, if_exists='replace', index=False)            \n",
    "                    \n",
    "        \n",
    "        # FORMATANDO A SAÍDA DA LLM COM JsonOutputParser\n",
    "        class Query(BaseModel):\n",
    "            query: str = Field(description='Esta é a query com DISTINCT aonde o nome de cada coluna e das tabelas devem ficar entre \"')\n",
    "\n",
    "        parseador = JsonOutputParser(pydantic_object=Query)\n",
    "\n",
    "        # CRIANDO O PROMPT PARA A LLM COM A SAIDA FORMATADA\n",
    "        template_query = \"\"\"Qual query deve ser executada na tabela {nome_arquivo} com as colunas {colunas} para responder\n",
    "        a pergunta {pergunta}? Se a query envolver as tabelas, deve ser feito um JOIN entre elas utlizando a coluna \"CHAVE DE ACESSO\" como chave. {formatacao_saida}\"\"\"\n",
    "\n",
    "        prompt_template_query = PromptTemplate(\n",
    "                                                template=template_query,\n",
    "                                                input_variables=[\"pergunta\",\"nome_arquivo\",\"colunas\"],\n",
    "                                                partial_variables={\"formatacao_saida\" : parseador.get_format_instructions()}\n",
    "                                              )\n",
    "\n",
    "        # CRIANDO A CADEIA DE EXECUÇÃO PARA A LLM\n",
    "        chain = prompt_template_query | llm | parseador\n",
    "\n",
    "        with engine.connect() as con:\n",
    "            query1 = sqlalc.text(f'PRAGMA table_info(\"{arquivo}\")')\n",
    "            rs = con.execute(query1)\n",
    "            rows = rs.fetchall()\n",
    "            colunas_query = sorted([col[1] for col in rows])\n",
    "            \n",
    "        query = chain.invoke(input={\"pergunta\":pergunta, \"nome_arquivo\":arquivo, \"colunas\":colunas_query})['query']\n",
    "\n",
    "        print('\\nQuery: ',query)\n",
    "\n",
    "        # # OBTENÇÃO DO RESULTADO DA QUERY\n",
    "        with engine.connect() as con:\n",
    "            df = read_sql(query, con)\n",
    "            resposta = df\n",
    "\n",
    "        return resposta\n",
    "    \n",
    "    elif resposta == \"Não\":\n",
    "        return resposta"
   ]
  },
  {
   "cell_type": "markdown",
   "id": "e5a89a55",
   "metadata": {
    "id": "e5a89a55"
   },
   "source": [
    "#### <b>AGENTE 3: Resposta e Interação</b>\n",
    "<b>Responsabilidade:</b> Interface inteligente com usuários<br/><br/>\n",
    "<b>Funcionalidades:</b>\n",
    "<ul><li>Integração com LLMs para consultas em linguagem natural.</li></ul>"
   ]
  },
  {
   "cell_type": "code",
   "execution_count": null,
   "id": "7fa552db",
   "metadata": {
    "id": "7fa552db"
   },
   "outputs": [],
   "source": [
    "def agente3(pergunta,arquivo):\n",
    "\n",
    "    if not exists('nfs_data.db'): # CRIAÇÃO DO BANCO DE DADOS PARA A PRIMEIRA EXECUÇÃO\n",
    "        print('\\nCriando o banco de dados nfs_data...')\n",
    "        DATABASE_URL = \"sqlite:///nfs_data.db\" # Define o nome do arquivo do banco de dados\n",
    "        engine = sqlalc.create_engine(DATABASE_URL)\n",
    "\n",
    "    else:\n",
    "        engine = sqlalc.create_engine(\"sqlite:///nfs_data.db\") # Conecta ao banco de dados existente\n",
    "\n",
    "\n",
    "    # INTEGRAÇÃO COM A LLM\n",
    "    load_dotenv() # CARREGANDO O ARQUIVO COM A API_KEY\n",
    "\n",
    "    llm = ChatGoogleGenerativeAI(\n",
    "        model=\"gemini-2.5-flash\",  # ou \"gemini-2.5-pro\"\n",
    "        temperature=0.5,\n",
    "        google_api_key=getenv(\"GOOGLE_API_KEY\")\n",
    "    )\n",
    "\n",
    "\n",
    "    try:\n",
    "            print('\\nExecutando agente 3...')\n",
    "\n",
    "            print('\\nPergunta: ',pergunta)\n",
    "\n",
    "            resposta = agente2(pergunta,engine,arquivo,llm) # A ENGINE NÃO É FECHADA AUTOMATICAMENTE, APENAS AS CONEXÕES QUANDO USADAS COM WITH\n",
    "\n",
    "            if (isinstance(resposta,DataFrame)): # VERIFICA SE A LLM RESPONDEU SIM PARA ALGUM ARQUIVO, OU SEJA, SE É CAPAZ DE RESPONDER A PERGUNTA DO USUÁRIO COM O\n",
    "                                                 # ARQUIVO FORNECIDO\n",
    "               \n",
    "               return resposta\n",
    "\n",
    "            elif resposta == \"Não\":\n",
    "                raise SemResposta\n",
    "\n",
    "    except SemResposta:\n",
    "            resposta = \"SemResposta\"\n",
    "            return resposta # RETORNANDO A EXCEÇÃO PARA O FRONTEND, AGENTE 1"
   ]
  },
  {
   "cell_type": "markdown",
   "id": "76b31d0c",
   "metadata": {
    "id": "76b31d0c"
   },
   "source": [
    "#### <b>TESTANDO</b>"
   ]
  },
  {
   "cell_type": "code",
   "execution_count": null,
   "id": "9e76b144",
   "metadata": {
    "id": "9e76b144"
   },
   "outputs": [],
   "source": [
    "if __name__ == \"__main__\":\n",
    "\n",
    "     # TESTANDO OS TIPOS DE ARQUIVO\n",
    "     #arquivo = \"202401_NFs_Cabecalho.csv\"\n",
    "     #arquivo = \"Grupo_01_Proposta_de_Projeto.pdf\"\n",
    "     arquivo = \"nota_fiscal_exemplo.png\"\n",
    "     \n",
    "     #print('Diretório atual: ',getcwd())\n",
    "     \n",
    "#    # EXEMPLOS DE PERGUNTA PARA TESTE. ELAS DEVEM SER OBTIDAS DO FRONTEND\n",
    "     pergunta = \"Qual é a chave de acesso da nota 3510129 ?\"\n",
    "     #pergunta = \"Quem descobriu o Brasil ?\"\n",
    "     #pergunta = \"Qual é a descrição dos serviços de nf com número 2525 ?\"\n",
    "     #pergunta = \"Qual é a descrição dos serviços e a natureza da operação da nf com número 2525 ?\"\n",
    "\n",
    "     #resposta = agente3(pergunta, arquivo)  # Chama a função principal com a pergunta e o diretório\n",
    "     #print('\\nResposta: \\n',resposta)\n",
    "     \n",
    "     \n",
    "     #agente1()  # Executa a função que inicia o agente\n",
    "     agente3(pergunta, arquivo)\n"
   ]
  },
  {
   "cell_type": "code",
   "execution_count": null,
   "id": "189bdcfa",
   "metadata": {},
   "outputs": [
    {
     "name": "stderr",
     "output_type": "stream",
     "text": [
      "Usage: streamlit run [OPTIONS] TARGET [ARGS]...\n",
      "Try 'streamlit run --help' for help.\n",
      "\n",
      "Error: Streamlit requires raw Python (.py) files, not .ipynb.\n",
      "For more information, please see https://docs.streamlit.io\n"
     ]
    }
   ],
   "source": [
    "# EXPORTAR ESSE NOTEBOOK PARA UM SCRIPT PYTHON ANTES\n",
    "!streamlit run agente_nfs.py"
   ]
  }
 ],
 "metadata": {
  "colab": {
   "provenance": []
  },
  "kernelspec": {
   "display_name": "agente_nfs",
   "language": "python",
   "name": "python3"
  },
  "language_info": {
   "codemirror_mode": {
    "name": "ipython",
    "version": 3
   },
   "file_extension": ".py",
   "mimetype": "text/x-python",
   "name": "python",
   "nbconvert_exporter": "python",
   "pygments_lexer": "ipython3",
   "version": "3.12.10"
  }
 },
 "nbformat": 4,
 "nbformat_minor": 5
}
