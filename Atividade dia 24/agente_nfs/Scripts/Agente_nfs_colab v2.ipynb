{
 "cells": [
  {
   "cell_type": "markdown",
   "id": "93457700",
   "metadata": {},
   "source": [
    "# ✅ Execução do Projeto Agente NFS no Google Colab"
   ]
  },
  {
   "cell_type": "code",
   "execution_count": null,
   "id": "5200a3ce",
   "metadata": {},
   "outputs": [],
   "source": [
    "# UPGRADE DO PIP PARA VERSÃO 25.1.1 - PASSO 1\n",
    "!python -m pip install --upgrade pip\n",
    "\n",
    "%pip install -qqqr requirements.txt"
   ]
  },
  {
   "cell_type": "code",
   "execution_count": null,
   "id": "c33660ac",
   "metadata": {},
   "outputs": [],
   "source": [
    "# Upload do arquivo ZIP\n",
    "from google.colab import files\n",
    "uploaded = files.upload()\n",
    "\n",
    "# Salvar o arquivo zipado com o nome correto\n",
    "zip_filename = list(uploaded.keys())[0]"
   ]
  },
  {
   "cell_type": "code",
   "execution_count": null,
   "id": "7ebc34d4",
   "metadata": {},
   "outputs": [],
   "source": [
    "from agente_nfs import agente3"
   ]
  },
  {
   "cell_type": "code",
   "execution_count": null,
   "id": "ae049b27",
   "metadata": {},
   "outputs": [],
   "source": [
    "\n",
    "# Exemplo de pergunta\n",
    "pergunta = \"Quem descobriu o Brasil?\"\n",
    "\n",
    "# Chamada do agente principal\n",
    "resposta = agente3(pergunta, zip_filename)\n",
    "print(\"\\nResposta obtida:\")\n",
    "print(resposta)\n"
   ]
  },
  {
   "cell_type": "markdown",
   "id": "ee8ad8f1",
   "metadata": {},
   "source": [
    "\n",
    "---\n",
    "✅ **Observações:**\n",
    "- Lembre de subir o arquivo `requirements.txt` e o arquivo `agente_nfs.py` (exporte o notebook como `.py`) e seu arquivo `.zip` com os CSVs para o Colab.\n",
    "- Streamlit **não funciona no Colab**, mas você pode executar os agentes diretamente via Python, como acima.\n"
   ]
  }
 ],
 "metadata": {
  "language_info": {
   "name": "python"
  }
 },
 "nbformat": 4,
 "nbformat_minor": 5
}
