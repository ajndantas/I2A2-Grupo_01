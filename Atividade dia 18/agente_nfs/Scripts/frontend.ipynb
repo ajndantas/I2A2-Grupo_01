{
 "cells": [
  {
   "cell_type": "code",
   "execution_count": null,
   "id": "df9c12cb",
   "metadata": {},
   "outputs": [],
   "source": [
    "import streamlit as st\n",
    "import pandas as pd\n",
    "import agente_nfs as agtnfs\n",
    "\n",
    "\n",
    "st.set_page_config(page_title=\"Agente NFe\", layout=\"centered\")\n",
    "st.title(\"🤖 Agente Inteligente para Notas Fiscais\")\n",
    "\n",
    "#api_key = st.sidebar.text_input(\"🔑 Google API Key\", type=\"password\")\n",
    "zip_file = st.file_uploader(\"📎 Envie um arquivo ZIP com os CSVs da NFe\", type=\"zip\")\n",
    "pergunta = st.text_input(\"📝 Digite sua pergunta sobre os dados:\")\n",
    "\n",
    "\n",
    "if st.button(\"🔍 Consultar\"):\n",
    "    if not zip_file:\n",
    "        st.error(\"Você precisa fazer o upload de um arquivo ZIP.\")\n",
    "        \n",
    "    elif not pergunta.strip():\n",
    "        st.error(\"Digite uma pergunta válida.\")\n",
    "        \n",
    "    else:\n",
    "        with st.spinner(\"Analisando os dados com IA...\"):\n",
    "            try:\n",
    "                resultado_df = agtnfs.agente3(pergunta, zip_file)\n",
    "\n",
    "                if isinstance(resultado_df,str) and resultado_df == \"SemArquivoCabecalho\":\n",
    "                    st.error(\"Erro: O arquivo ZIP não contém um CSV com cabeçalho válido.\")\n",
    "                \n",
    "                elif isinstance(resultado_df,str) and resultado_df == \"SemArquivoItens\":\n",
    "                    st.error(\"Erro: O arquivo ZIP não contém um CSV com itens válido.\")\n",
    "                \n",
    "                elif isinstance(resultado_df,str) and resultado_df == \"SemResposta\":\n",
    "                    st.warning(\"Consulta realizada, mas nenhum dado foi encontrado.\")                  \n",
    "                    \n",
    "                elif isinstance(resultado_df, pd.DataFrame) and not resultado_df.empty:\n",
    "                    st.success(\"✅ Resultado encontrado:\")\n",
    "                    st.dataframe(resultado_df)\n",
    "                                        \n",
    "                    \n",
    "            except Exception as e:\n",
    "                st.error(f\"Erro ao processar: {e}\")\n",
    "\n"
   ]
  }
 ],
 "metadata": {
  "language_info": {
   "name": "python"
  }
 },
 "nbformat": 4,
 "nbformat_minor": 5
}
